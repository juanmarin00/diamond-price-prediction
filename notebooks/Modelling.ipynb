{
 "cells": [
  {
   "cell_type": "markdown",
   "metadata": {},
   "source": [
    "# Importing the Modules"
   ]
  },
  {
   "cell_type": "code",
   "execution_count": 8,
   "metadata": {},
   "outputs": [],
   "source": [
    "import numpy as np \n",
    "import pandas as pd \n",
    "import seaborn as sns\n",
    "import matplotlib as mpl\n",
    "import matplotlib.pyplot as plt\n",
    "import matplotlib.pylab as pylab\n",
    "from sklearn.preprocessing import OneHotEncoder, LabelEncoder, OrdinalEncoder\n",
    "from sklearn.model_selection import train_test_split\n",
    "from sklearn.preprocessing import StandardScaler\n",
    "from sklearn.decomposition import PCA\n",
    "from sklearn.pipeline import Pipeline\n",
    "from sklearn.tree import DecisionTreeRegressor\n",
    "from sklearn.ensemble import RandomForestRegressor\n",
    "from sklearn.linear_model import LinearRegression\n",
    "from xgboost import XGBRegressor\n",
    "from sklearn.neighbors import KNeighborsRegressor\n",
    "from sklearn.model_selection import cross_val_score\n",
    "from sklearn.metrics import mean_squared_error\n",
    "from sklearn import metrics\n",
    "import statsmodels.api as sm\n",
    "import statsmodels.formula.api as smapi\n",
    "import sklearn"
   ]
  },
  {
   "cell_type": "markdown",
   "metadata": {},
   "source": [
    "# Importing Data"
   ]
  },
  {
   "cell_type": "code",
   "execution_count": 2,
   "metadata": {},
   "outputs": [
    {
     "data": {
      "text/html": [
       "<div>\n",
       "<style scoped>\n",
       "    .dataframe tbody tr th:only-of-type {\n",
       "        vertical-align: middle;\n",
       "    }\n",
       "\n",
       "    .dataframe tbody tr th {\n",
       "        vertical-align: top;\n",
       "    }\n",
       "\n",
       "    .dataframe thead th {\n",
       "        text-align: right;\n",
       "    }\n",
       "</style>\n",
       "<table border=\"1\" class=\"dataframe\">\n",
       "  <thead>\n",
       "    <tr style=\"text-align: right;\">\n",
       "      <th></th>\n",
       "      <th>carat</th>\n",
       "      <th>cut</th>\n",
       "      <th>color</th>\n",
       "      <th>clarity</th>\n",
       "      <th>price</th>\n",
       "      <th>x</th>\n",
       "      <th>y</th>\n",
       "      <th>z</th>\n",
       "      <th>volume</th>\n",
       "    </tr>\n",
       "  </thead>\n",
       "  <tbody>\n",
       "    <tr>\n",
       "      <td>0</td>\n",
       "      <td>-1.469676</td>\n",
       "      <td>2</td>\n",
       "      <td>1</td>\n",
       "      <td>3</td>\n",
       "      <td>5.786897</td>\n",
       "      <td>3.95</td>\n",
       "      <td>3.98</td>\n",
       "      <td>2.43</td>\n",
       "      <td>2.544276</td>\n",
       "    </tr>\n",
       "    <tr>\n",
       "      <td>1</td>\n",
       "      <td>-1.560648</td>\n",
       "      <td>3</td>\n",
       "      <td>1</td>\n",
       "      <td>2</td>\n",
       "      <td>5.786897</td>\n",
       "      <td>3.89</td>\n",
       "      <td>3.84</td>\n",
       "      <td>2.31</td>\n",
       "      <td>2.442517</td>\n",
       "    </tr>\n",
       "    <tr>\n",
       "      <td>2</td>\n",
       "      <td>-1.469676</td>\n",
       "      <td>1</td>\n",
       "      <td>1</td>\n",
       "      <td>4</td>\n",
       "      <td>5.789960</td>\n",
       "      <td>4.05</td>\n",
       "      <td>4.07</td>\n",
       "      <td>2.31</td>\n",
       "      <td>2.540995</td>\n",
       "    </tr>\n",
       "    <tr>\n",
       "      <td>3</td>\n",
       "      <td>-1.237874</td>\n",
       "      <td>3</td>\n",
       "      <td>5</td>\n",
       "      <td>5</td>\n",
       "      <td>5.811141</td>\n",
       "      <td>4.20</td>\n",
       "      <td>4.23</td>\n",
       "      <td>2.63</td>\n",
       "      <td>2.745658</td>\n",
       "    </tr>\n",
       "    <tr>\n",
       "      <td>4</td>\n",
       "      <td>-1.171183</td>\n",
       "      <td>1</td>\n",
       "      <td>6</td>\n",
       "      <td>3</td>\n",
       "      <td>5.814131</td>\n",
       "      <td>4.34</td>\n",
       "      <td>4.35</td>\n",
       "      <td>2.75</td>\n",
       "      <td>2.851039</td>\n",
       "    </tr>\n",
       "  </tbody>\n",
       "</table>\n",
       "</div>"
      ],
      "text/plain": [
       "      carat  cut  color  clarity     price     x     y     z    volume\n",
       "0 -1.469676    2      1        3  5.786897  3.95  3.98  2.43  2.544276\n",
       "1 -1.560648    3      1        2  5.786897  3.89  3.84  2.31  2.442517\n",
       "2 -1.469676    1      1        4  5.789960  4.05  4.07  2.31  2.540995\n",
       "3 -1.237874    3      5        5  5.811141  4.20  4.23  2.63  2.745658\n",
       "4 -1.171183    1      6        3  5.814131  4.34  4.35  2.75  2.851039"
      ]
     },
     "execution_count": 2,
     "metadata": {},
     "output_type": "execute_result"
    }
   ],
   "source": [
    "data = pd.read_csv('../data/export_diamonds.csv')\n",
    "data.head()"
   ]
  },
  {
   "cell_type": "code",
   "execution_count": 4,
   "metadata": {},
   "outputs": [],
   "source": [
    "# Assigning the featurs as X and trarget as y\n",
    "X= data.drop([\"price\"],axis =1)\n",
    "y= data[\"price\"]\n",
    "\n",
    "#Splitting data into test and train\n",
    "X_train, X_test, y_train, y_test = train_test_split(X, y,test_size=0.25, random_state=42)"
   ]
  },
  {
   "cell_type": "markdown",
   "metadata": {},
   "source": [
    "# Creating models and fitting to data"
   ]
  },
  {
   "cell_type": "code",
   "execution_count": 5,
   "metadata": {},
   "outputs": [
    {
     "name": "stderr",
     "output_type": "stream",
     "text": [
      "/Users/juanmarin/anaconda3/lib/python3.7/site-packages/sklearn/ensemble/forest.py:245: FutureWarning: The default value of n_estimators will change from 10 in version 0.20 to 100 in 0.22.\n",
      "  \"10 in version 0.20 to 100 in 0.22.\", FutureWarning)\n"
     ]
    }
   ],
   "source": [
    "# Building pipelins of standard scaler and model for varios regressors.\n",
    "\n",
    "pipeline_lr=Pipeline([(\"scalar1\",StandardScaler()),\n",
    "                     (\"lr_classifier\",LinearRegression())])\n",
    "\n",
    "pipeline_dt=Pipeline([(\"scalar2\",StandardScaler()),\n",
    "                     (\"dt_classifier\",DecisionTreeRegressor())])\n",
    "\n",
    "pipeline_rf=Pipeline([(\"scalar3\",StandardScaler()),\n",
    "                     (\"rf_classifier\",RandomForestRegressor())])\n",
    "\n",
    "\n",
    "pipeline_kn=Pipeline([(\"scalar4\",StandardScaler()),\n",
    "                     (\"rf_classifier\",KNeighborsRegressor())])\n",
    "\n",
    "\n",
    "pipeline_xgb=Pipeline([(\"scalar5\",StandardScaler()),\n",
    "                     (\"rf_classifier\",XGBRegressor())])\n",
    "\n",
    "# List of all the pipelines\n",
    "pipelines = [pipeline_lr, pipeline_dt, pipeline_rf, pipeline_kn, pipeline_xgb]\n",
    "\n",
    "# Dictionary of pipelines and model types for ease of reference\n",
    "pipe_dict = {0: \"LinearRegression\", 1: \"DecisionTree\", 2: \"RandomForest\",3: \"KNeighbors\", 4: \"XGBRegressor\"}\n",
    "\n",
    "# Fit the pipelines\n",
    "for pipe in pipelines:\n",
    "    pipe.fit(X_train, y_train)"
   ]
  },
  {
   "cell_type": "code",
   "execution_count": 14,
   "metadata": {},
   "outputs": [
    {
     "name": "stdout",
     "output_type": "stream",
     "text": [
      "LinearRegression: 0.956903 \n",
      "DecisionTree: 0.984723 \n",
      "RandomForest: 0.990881 \n",
      "KNeighbors: 0.987803 \n",
      "XGBRegressor: 0.992033 \n"
     ]
    }
   ],
   "source": [
    "cv_results_score = []\n",
    "mean_scores = {}\n",
    "for i, model in enumerate(pipelines):\n",
    "    cv_score = cross_val_score(model, X_train,y_train, cv=10)\n",
    "    cv_results_rms.append(cv_score)\n",
    "    print(\"%s: %f \" % (pipe_dict[i], cv_score.mean()))\n",
    "    mean_scores[pipe_dict[i]] = cv_score.mean()"
   ]
  },
  {
   "cell_type": "code",
   "execution_count": 16,
   "metadata": {},
   "outputs": [
    {
     "name": "stdout",
     "output_type": "stream",
     "text": [
      "The best regressor is XGBRegressor\n"
     ]
    }
   ],
   "source": [
    "#Get model with highest score\n",
    "best_regressor = max(mean_scores, key=mean_scores.get)\n",
    "print(\"The best regressor is\", best_regressor)"
   ]
  },
  {
   "cell_type": "markdown",
   "metadata": {},
   "source": [
    "# Fit model to test data"
   ]
  },
  {
   "cell_type": "code",
   "execution_count": 18,
   "metadata": {},
   "outputs": [],
   "source": [
    "# Model prediction on test data\n",
    "pred = pipeline_xgb.predict(X_test)"
   ]
  },
  {
   "cell_type": "code",
   "execution_count": 19,
   "metadata": {},
   "outputs": [
    {
     "name": "stdout",
     "output_type": "stream",
     "text": [
      "R^2: 0.9921318549708055\n",
      "Adjusted R^2: 0.9921271823288165\n",
      "MAE: 0.06448008058022564\n",
      "MSE: 0.00801906872634557\n",
      "RMSE: 0.08954925307530806\n"
     ]
    }
   ],
   "source": [
    "#Model Evaluation\n",
    "print(\"R^2:\",metrics.r2_score(y_test, pred))\n",
    "print(\"Adjusted R^2:\",1 - (1-metrics.r2_score(y_test, pred))*(len(y_test)-1)/(len(y_test)-X_test.shape[1]-1))\n",
    "print(\"MAE:\",metrics.mean_absolute_error(y_test, pred))\n",
    "print(\"MSE:\",metrics.mean_squared_error(y_test, pred))\n",
    "print(\"RMSE:\",np.sqrt(metrics.mean_squared_error(y_test, pred)))"
   ]
  }
 ],
 "metadata": {
  "kernelspec": {
   "display_name": "Python 3",
   "language": "python",
   "name": "python3"
  },
  "language_info": {
   "codemirror_mode": {
    "name": "ipython",
    "version": 3
   },
   "file_extension": ".py",
   "mimetype": "text/x-python",
   "name": "python",
   "nbconvert_exporter": "python",
   "pygments_lexer": "ipython3",
   "version": "3.7.3"
  },
  "toc": {
   "base_numbering": 1,
   "nav_menu": {},
   "number_sections": true,
   "sideBar": true,
   "skip_h1_title": false,
   "title_cell": "Table of Contents",
   "title_sidebar": "Contents",
   "toc_cell": false,
   "toc_position": {},
   "toc_section_display": true,
   "toc_window_display": false
  }
 },
 "nbformat": 4,
 "nbformat_minor": 2
}
